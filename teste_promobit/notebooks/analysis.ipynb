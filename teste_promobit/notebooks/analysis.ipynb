{
 "cells": [
  {
   "cell_type": "code",
   "execution_count": 3,
   "id": "9a47e571-1835-4182-b596-7369b648d2f0",
   "metadata": {
    "scrolled": true
   },
   "outputs": [
    {
     "name": "stdout",
     "output_type": "stream",
     "text": [
      "Tabela clientes:  cliente_id        int64\n",
      "nome             object\n",
      "email            object\n",
      "data_cadastro    object\n",
      "cidade           object\n",
      "estado           object\n",
      "grupo            object\n",
      "dtype: object <class 'pandas.core.frame.DataFrame'>\n",
      "Tabela itenspedido:  item_id             int64\n",
      "pedido_id           int64\n",
      "produto_id          int64\n",
      "quantidade          int64\n",
      "preco_unitario    float64\n",
      "subtotal          float64\n",
      "dtype: object <class 'pandas.core.frame.DataFrame'>\n",
      "Tabela pedidos:  pedido_id       int64\n",
      "cliente_id      int64\n",
      "data_pedido    object\n",
      "status         object\n",
      "valor_total     int64\n",
      "dtype: object <class 'pandas.core.frame.DataFrame'>\n",
      "Tabela produtos:  produto_id      int64\n",
      "preco         float64\n",
      "categoria      object\n",
      "dtype: object <class 'pandas.core.frame.DataFrame'>\n"
     ]
    }
   ],
   "source": [
    "import pandas as pd\n",
    "from pandasql import sqldf\n",
    "\n",
    "df_clientes = pd.read_csv(r\"C:\\Users\\danie\\Documents\\case_promobit\\teste_promobit\\data\\raw\\clientes.csv\")\n",
    "df_itenspedido = pd.read_csv(r\"C:\\Users\\danie\\Documents\\case_promobit\\teste_promobit\\data\\raw\\itens_pedido.csv\")\n",
    "df_pedidos = pd.read_csv(r\"C:\\Users\\danie\\Documents\\case_promobit\\teste_promobit\\data\\raw\\pedidos.csv\")\n",
    "df_produtos = pd.read_csv(r\"C:\\Users\\danie\\Documents\\case_promobit\\teste_promobit\\data\\raw\\produtos.csv\")\n",
    "\n",
    "#visualizando os cabeçalhos:\n",
    "\n",
    "print(\"Tabela clientes: \",df_clientes.dtypes, type(df_clientes))\n",
    "print(\"Tabela itenspedido: \",df_itenspedido.dtypes, type(df_itenspedido))\n",
    "print(\"Tabela pedidos: \",df_pedidos.dtypes, type(df_itenspedido))\n",
    "print(\"Tabela produtos: \",df_produtos.dtypes, type(df_itenspedido))"
   ]
  },
  {
   "cell_type": "markdown",
   "id": "48dcf04b-40b7-4f40-8ad6-f35a3e702671",
   "metadata": {
    "jp-MarkdownHeadingCollapsed": true
   },
   "source": [
    "## Análise exploratória das tabelas clientes em SQL:"
   ]
  },
  {
   "cell_type": "code",
   "execution_count": 4,
   "id": "248540ee-b79e-4d16-9fa6-a73244a85613",
   "metadata": {},
   "outputs": [
    {
     "name": "stdout",
     "output_type": "stream",
     "text": [
      "Empty DataFrame\n",
      "Columns: [cliente_id, qtd]\n",
      "Index: []\n",
      "   estado  qtd\n",
      "0      AC   37\n",
      "1      AL   48\n",
      "2      AM   48\n",
      "3      AP   50\n",
      "4      BA   42\n",
      "5      CE   38\n",
      "6      DF   47\n",
      "7      ES   53\n",
      "8      GO   50\n",
      "9      MA   50\n",
      "10     MG   51\n",
      "11     MS   43\n",
      "12     MT   44\n",
      "13     PA   47\n",
      "14     PB   39\n",
      "15     PE   41\n",
      "16     PI   41\n",
      "17     PR   43\n",
      "18     RJ   44\n",
      "19     RN   36\n",
      "20     RO   36\n",
      "21     RR   55\n",
      "22     RS   36\n",
      "23     SC   47\n",
      "24     SE   45\n",
      "25     SP   42\n",
      "26     TO   47\n",
      "            cidade  qtd\n",
      "0   Belo Horizonte   92\n",
      "1         Curitiba   87\n",
      "2          Goiania   83\n",
      "3          Goiânia   77\n",
      "4         Maranhao   92\n",
      "5         Maranhão   78\n",
      "6              Rio   87\n",
      "7   Rio de Janeiro   84\n",
      "8        Sao Paulo  165\n",
      "9        São Paulo   89\n",
      "10       sao Paulo  266\n"
     ]
    }
   ],
   "source": [
    "#duplicados?\n",
    "\n",
    "query_clientes_1 = sqldf(\"SELECT cliente_id, COUNT(*) as qtd FROM df_clientes GROUP BY cliente_id HAVING COUNT(*)> 1\", globals())\n",
    "print(query_clientes_1)\n",
    "\n",
    "query_clientes_2 = sqldf(\"SELECT estado, COUNT(*) as qtd FROM df_clientes GROUP BY estado HAVING COUNT(*)> 1\", globals())\n",
    "print(query_clientes_2)\n",
    "\n",
    "query_clientes_3 = sqldf(\"SELECT cidade, COUNT(*) as qtd FROM df_clientes GROUP BY cidade HAVING COUNT(*)> 1\", globals())\n",
    "print(query_clientes_3)\n",
    "\n",
    "# sem clientes duplicados\n",
    "# estados não está corretamente relacionados às cidades(?)"
   ]
  },
  {
   "cell_type": "markdown",
   "id": "1229d32e-8713-421d-b83a-d6fdf0d6aef4",
   "metadata": {
    "jp-MarkdownHeadingCollapsed": true
   },
   "source": [
    "## Análise exploratória das tabelas pedidos em SQL:"
   ]
  },
  {
   "cell_type": "code",
   "execution_count": 5,
   "id": "6c1c7a5c-c04d-421e-bccf-ec1f7598e15d",
   "metadata": {},
   "outputs": [
    {
     "name": "stdout",
     "output_type": "stream",
     "text": [
      "      pedido_id  qtd\n",
      "0        999787    1\n",
      "1        999752    1\n",
      "2        999483    1\n",
      "3        999463    1\n",
      "4        999431    1\n",
      "...         ...  ...\n",
      "9995     100480    1\n",
      "9996     100384    1\n",
      "9997     100295    1\n",
      "9998     100274    1\n",
      "9999     100013    1\n",
      "\n",
      "[10000 rows x 2 columns]\n",
      "      cliente_id  qtd\n",
      "0          88982   17\n",
      "1          78086   17\n",
      "2          66383   17\n",
      "3          65255   17\n",
      "4          22464   17\n",
      "...          ...  ...\n",
      "1195       54164    2\n",
      "1196       41861    2\n",
      "1197       23433    2\n",
      "1198       39354    1\n",
      "1199       18551    1\n",
      "\n",
      "[1200 rows x 2 columns]\n",
      "       status   qtd\n",
      "0  Confirmado  6648\n",
      "1   CANCELADO  1683\n",
      "2     Pending  1669\n"
     ]
    }
   ],
   "source": [
    "#duplicados?\n",
    "\n",
    "query_pedidos_1 = sqldf(\"SELECT pedido_id, COUNT(*) as qtd FROM df_pedidos GROUP BY pedido_id HAVING COUNT(*) ORDER BY qtd DESC\", globals())\n",
    "print(query_pedidos_1)\n",
    "\n",
    "query_pedidos_2 = sqldf(\"SELECT cliente_id, COUNT(*) as qtd FROM df_pedidos GROUP BY cliente_id HAVING COUNT(*) ORDER BY qtd DESC\", globals())\n",
    "print(query_pedidos_2)\n",
    "\n",
    "query_pedidos_3 = sqldf(\"SELECT status, COUNT(*) as qtd FROM df_pedidos GROUP BY status HAVING COUNT(*) ORDER BY qtd DESC\", globals())\n",
    "print(query_pedidos_3)\n",
    "\n",
    "\n",
    "# sem pedidos duplicados"
   ]
  },
  {
   "cell_type": "markdown",
   "id": "e62650d6-525d-4205-98c5-99bfd0dcc131",
   "metadata": {
    "jp-MarkdownHeadingCollapsed": true
   },
   "source": [
    "## Análise exploratória da tabela produtos em SQL:"
   ]
  },
  {
   "cell_type": "code",
   "execution_count": 6,
   "id": "0eb89b41-f7a7-4712-a885-f858a2256401",
   "metadata": {
    "scrolled": true
   },
   "outputs": [
    {
     "name": "stdout",
     "output_type": "stream",
     "text": [
      "     produto_id  qtd\n",
      "0          9986    1\n",
      "1          9985    1\n",
      "2          9944    1\n",
      "3          9942    1\n",
      "4          9928    1\n",
      "..          ...  ...\n",
      "495        1044    1\n",
      "496        1032    1\n",
      "497        1016    1\n",
      "498        1008    1\n",
      "499        1006    1\n",
      "\n",
      "[500 rows x 2 columns]\n"
     ]
    }
   ],
   "source": [
    "#duplicados?\n",
    "\n",
    "query_produtos_1 = sqldf(\"SELECT produto_id, COUNT(*) as qtd FROM df_produtos GROUP BY produto_id HAVING COUNT(*) ORDER BY qtd DESC\", globals())\n",
    "print(query_produtos_1)\n",
    "\n",
    "\n",
    "# sem produtos duplicados"
   ]
  },
  {
   "cell_type": "markdown",
   "id": "c538143a-c9e1-473f-877a-c8ef5cb61db2",
   "metadata": {},
   "source": [
    "## Tratamento de dados"
   ]
  },
  {
   "cell_type": "code",
   "execution_count": 7,
   "id": "218e07be-966e-43b3-b415-8d4756664977",
   "metadata": {},
   "outputs": [
    {
     "name": "stdout",
     "output_type": "stream",
     "text": [
      "cliente_id                int64\n",
      "nome                     object\n",
      "email                    object\n",
      "data_cadastro    datetime64[ns]\n",
      "cidade                   object\n",
      "estado                   object\n",
      "grupo                    object\n",
      "dtype: object\n"
     ]
    }
   ],
   "source": [
    "#ajustando os dtypes das tabelas:\n",
    "\n",
    "#considerando que estamos utilizando o panda, quando a string está como object, não é necessário conversão para string já que o pandas e o pandasql utiliza \"object\" para string\n",
    "df_clientes['data_cadastro'] = pd.to_datetime(df_clientes['data_cadastro'])\n",
    "df_pedidos['data_pedido'] = pd.to_datetime(df_pedidos['data_pedido'])\n",
    "\n",
    "\n",
    "\n",
    "print(df_clientes.dtypes)\n",
    "\n"
   ]
  },
  {
   "cell_type": "code",
   "execution_count": 8,
   "id": "7c542e22-c911-4c4d-a1b2-01f09f47b13d",
   "metadata": {},
   "outputs": [
    {
     "name": "stdout",
     "output_type": "stream",
     "text": [
      "cidade\n",
      "São Paulo         520\n",
      "Rio de Janeiro    171\n",
      "Maranhão          170\n",
      "Goiânia           160\n",
      "Belo Horizonte     92\n",
      "Curitiba           87\n",
      "Name: count, dtype: int64\n"
     ]
    }
   ],
   "source": [
    "#ajustando o nome das cidades\n",
    "\n",
    "correcoes_cidades = {\n",
    "    'Maranhao': 'Maranhão',\n",
    "    'Rio': 'Rio de Janeiro',\n",
    "    'Sao Paulo': 'São Paulo',\n",
    "    'sao Paulo': 'São Paulo',\n",
    "    'Goiania': 'Goiânia'\n",
    "}\n",
    "\n",
    "df_clientes['cidade'] = df_clientes['cidade'].replace(correcoes_cidades)\n",
    "\n",
    "contagem_cidades = df_clientes['cidade'].value_counts()\n",
    "\n",
    "print(contagem_cidades)"
   ]
  },
  {
   "cell_type": "markdown",
   "id": "4fbad4b0-4774-42f4-9395-e68bfc6b4a7d",
   "metadata": {},
   "source": [
    "## 1. Qual grupo você escolheria para ser a nossa funcionalidade? Por que?"
   ]
  },
  {
   "cell_type": "markdown",
   "id": "49cfe8ff-b794-41c7-8bfd-5c52b29edf86",
   "metadata": {},
   "source": [
    "## Resposta:"
   ]
  },
  {
   "cell_type": "markdown",
   "id": "48b0b90a-9fd5-455b-9bc1-8436a8605924",
   "metadata": {},
   "source": [
    "Considerei 3 métricas importantes onde o **Grupo C**, mesmo que com baixa relevância, se mostrou superior ao B e ao grupo de controle.\n",
    "Resultados para o Grupo C:\n",
    "**Aumento real da taxa de pedidos: 4.91%**\n",
    "**Aumento real do ticket médio: 13.83%**\n",
    "**Taxa de confirmação: 64.94%**\n",
    "\n",
    "\n"
   ]
  },
  {
   "cell_type": "markdown",
   "id": "de2170d8-2712-4370-ab73-cdf06a0625c2",
   "metadata": {},
   "source": [
    "### Calculando resultados por grupo"
   ]
  },
  {
   "cell_type": "code",
   "execution_count": 9,
   "id": "6bbfe384-5c0c-4853-b58e-32ec6061949b",
   "metadata": {
    "scrolled": true
   },
   "outputs": [
    {
     "name": "stdout",
     "output_type": "stream",
     "text": [
      "  grupo  cont_clientes  cont_pedidos  valor_pedidos  ticket_medio  \\\n",
      "0     A            412          2263        6671606         16193   \n",
      "1     B            398          2151        7270871         18268   \n",
      "2     C            388          2234        7152182         18433   \n",
      "\n",
      "   taxa_pedidos  \n",
      "0          5.49  \n",
      "1          5.40  \n",
      "2          5.76  \n"
     ]
    }
   ],
   "source": [
    "\n",
    "query_resposta_1 = \"\"\"\n",
    "SELECT\n",
    "    c.grupo,\n",
    "    COUNT(DISTINCT c.cliente_id) AS cont_clientes,\n",
    "    COUNT(DISTINCT p.pedido_id) AS cont_pedidos,\n",
    "    SUM(p.valor_total) AS valor_pedidos,\n",
    "    SUM(p.valor_total)/(COUNT(DISTINCT c.cliente_id)) AS ticket_medio,\n",
    "    ROUND(1.0 * COUNT(DISTINCT p.pedido_id)/COUNT(DISTINCT p.cliente_id),2) as taxa_pedidos\n",
    "FROM\n",
    "df_clientes c\n",
    "INNER JOIN df_pedidos p ON c.cliente_id = p.cliente_id\n",
    "WHERE\n",
    "p.status = \"Confirmado\"\n",
    "GROUP BY c.grupo\n",
    "\"\"\"\n",
    "resposta_1 = sqldf(query_resposta_1, globals())\n",
    "print(resposta_1)"
   ]
  },
  {
   "cell_type": "markdown",
   "id": "073cf271-9a9a-4045-8cc6-8fafabd64df0",
   "metadata": {},
   "source": [
    "### Calculando aumento real dos grupos Variantes por Controle - Taxa de Pedidos"
   ]
  },
  {
   "cell_type": "code",
   "execution_count": 10,
   "id": "d2e4253c-40bb-4bc3-8c38-c9fe65ce94aa",
   "metadata": {},
   "outputs": [
    {
     "name": "stdout",
     "output_type": "stream",
     "text": [
      "  grupo  taxa_pedidos  aumento_real_taxa_pedidos%\n",
      "0     A          5.49                    0.000000\n",
      "1     B          5.40                   -1.639344\n",
      "2     C          5.76                    4.918033\n"
     ]
    }
   ],
   "source": [
    "taxa_A = resposta_1.loc[resposta_1['grupo'] == 'A', 'taxa_pedidos'].values[0]\n",
    "\n",
    "resposta_1['aumento_real_taxa_pedidos'] = (resposta_1['taxa_pedidos'] - taxa_A) / taxa_A\n",
    "\n",
    "resposta_1['aumento_real_taxa_pedidos%'] = resposta_1['aumento_real_taxa_pedidos'] * 100\n",
    "\n",
    "print(resposta_1[['grupo', 'taxa_pedidos', 'aumento_real_taxa_pedidos%']])"
   ]
  },
  {
   "cell_type": "markdown",
   "id": "ebe3cffb-e443-47ea-b431-db1d5534a865",
   "metadata": {},
   "source": [
    "### Calculando aumento real dos grupos Variantes por Controle - Ticket Médio"
   ]
  },
  {
   "cell_type": "code",
   "execution_count": 11,
   "id": "f427cb94-1c46-413d-9432-e6a3f4c799a4",
   "metadata": {},
   "outputs": [
    {
     "name": "stdout",
     "output_type": "stream",
     "text": [
      "  grupo  ticket_medio  aumento_real_tm%\n",
      "0     A         16193          0.000000\n",
      "1     B         18268         12.814179\n",
      "2     C         18433         13.833138\n"
     ]
    }
   ],
   "source": [
    "tm_a = resposta_1.loc[resposta_1['grupo'] == 'A', 'ticket_medio'].values[0]\n",
    "\n",
    "resposta_1['aumento_real_tm'] = (resposta_1['ticket_medio'] - tm_a) / tm_a\n",
    "\n",
    "resposta_1['aumento_real_tm%'] = resposta_1['aumento_real_tm'] * 100\n",
    "\n",
    "print(resposta_1[['grupo', 'ticket_medio', 'aumento_real_tm%']])"
   ]
  },
  {
   "cell_type": "markdown",
   "id": "98db72d2-e425-4824-8e18-1a4ac8a47179",
   "metadata": {},
   "source": [
    "### Calculando taxa de confirmação por grupo"
   ]
  },
  {
   "cell_type": "code",
   "execution_count": 12,
   "id": "74d3a38b-568e-4ab9-81fa-819569defd56",
   "metadata": {},
   "outputs": [
    {
     "name": "stdout",
     "output_type": "stream",
     "text": [
      "  grupo  cont_clientes  cont_pedidos  confirmados  pendentes  cancelados\n",
      "0     A            413          3440         2263        576         601\n",
      "1     B            398          3267         2151        559         557\n",
      "2     C            389          3293         2234        534         525\n"
     ]
    }
   ],
   "source": [
    "query_resposta_1_1 = \"\"\"\n",
    "SELECT\n",
    "    c.grupo,\n",
    "    COUNT(DISTINCT c.cliente_id) AS cont_clientes,\n",
    "    COUNT(DISTINCT p.pedido_id) AS cont_pedidos,\n",
    "    COUNT(CASE WHEN p.status = 'Confirmado' THEN p.pedido_id END) AS confirmados,\n",
    "    COUNT(CASE WHEN p.status = 'Pending' THEN p.pedido_id END) AS pendentes,\n",
    "    COUNT(CASE WHEN p.status = 'CANCELADO' THEN p.pedido_id END) AS cancelados\n",
    "FROM\n",
    "df_clientes c\n",
    "INNER JOIN df_pedidos p ON c.cliente_id = p.cliente_id\n",
    "GROUP BY c.grupo\n",
    "\"\"\"\n",
    "resposta_1_1 = sqldf(query_resposta_1_1, globals())\n",
    "print(resposta_1_1)"
   ]
  },
  {
   "cell_type": "code",
   "execution_count": 13,
   "id": "5db834ba-2dbe-460d-8713-33d1d80058d2",
   "metadata": {},
   "outputs": [
    {
     "name": "stdout",
     "output_type": "stream",
     "text": [
      "  grupo  cont_clientes  cont_pedidos  confirmados  pendentes  cancelados  \\\n",
      "0     A            413          3440         2263        576         601   \n",
      "1     B            398          3267         2151        559         557   \n",
      "2     C            389          3293         2234        534         525   \n",
      "\n",
      "   taxa_confirmacao%  \n",
      "0          65.784884  \n",
      "1          62.529070  \n",
      "2          64.941860  \n"
     ]
    }
   ],
   "source": [
    "tm_a = resposta_1_1.loc[resposta_1['grupo'] == 'A', 'cont_pedidos'].values[0]\n",
    "\n",
    "resposta_1_1['taxa_confirmacao%'] = (resposta_1_1['confirmados']/tm_a)*100\n",
    "\n",
    "print(resposta_1_1)"
   ]
  },
  {
   "cell_type": "markdown",
   "id": "ff6bb253-c028-4ca6-ad2c-07bbd788d572",
   "metadata": {},
   "source": [
    "## 2. De acordo com suas análises, o estado do usuário influencia no valor das vendas?"
   ]
  },
  {
   "cell_type": "code",
   "execution_count": 14,
   "id": "f1d23590-ffc3-40da-bda3-adb71039e570",
   "metadata": {},
   "outputs": [
    {
     "name": "stdout",
     "output_type": "stream",
     "text": [
      "   estado  cont_clientes  cont_pedidos  valor_pedidos  ticket_medio  \\\n",
      "0      AC             37           218         716164         19355   \n",
      "1      AL             48           253         828874         17268   \n",
      "2      AM             48           257         797341         16611   \n",
      "3      AP             50           282         868457         17369   \n",
      "4      BA             42           230         711964         16951   \n",
      "5      CE             38           190         633867         16680   \n",
      "6      DF             47           236         755397         16072   \n",
      "7      ES             53           277         863116         16285   \n",
      "8      GO             50           297         907330         18146   \n",
      "9      MA             49           286         905260         18474   \n",
      "10     MG             51           322        1042707         20445   \n",
      "11     MS             43           246         743910         17300   \n",
      "12     MT             44           250         805316         18302   \n",
      "13     PA             47           273         859011         18276   \n",
      "14     PB             39           210         651013         16692   \n",
      "15     PE             41           200         664056         16196   \n",
      "16     PI             41           220         688043         16781   \n",
      "17     PR             43           227         723539         16826   \n",
      "18     RJ             44           253         830709         18879   \n",
      "19     RN             36           204         665148         18476   \n",
      "20     RO             36           202         655886         18219   \n",
      "21     RR             55           331         996613         18120   \n",
      "22     RS             36           187         600818         16689   \n",
      "23     SC             47           256         790818         16825   \n",
      "24     SE             44           259         830984         18886   \n",
      "25     SP             42           227         707338         16841   \n",
      "26     TO             47           255         850980         18105   \n",
      "\n",
      "    taxa_pedidos  \n",
      "0           5.89  \n",
      "1           5.27  \n",
      "2           5.35  \n",
      "3           5.64  \n",
      "4           5.48  \n",
      "5           5.00  \n",
      "6           5.02  \n",
      "7           5.23  \n",
      "8           5.94  \n",
      "9           5.84  \n",
      "10          6.31  \n",
      "11          5.72  \n",
      "12          5.68  \n",
      "13          5.81  \n",
      "14          5.38  \n",
      "15          4.88  \n",
      "16          5.37  \n",
      "17          5.28  \n",
      "18          5.75  \n",
      "19          5.67  \n",
      "20          5.61  \n",
      "21          6.02  \n",
      "22          5.19  \n",
      "23          5.45  \n",
      "24          5.89  \n",
      "25          5.40  \n",
      "26          5.43  \n"
     ]
    }
   ],
   "source": [
    "query_resposta_2 = \"\"\"\n",
    "SELECT\n",
    "    c.estado,\n",
    "    COUNT(DISTINCT c.cliente_id) AS cont_clientes,\n",
    "    COUNT(DISTINCT p.pedido_id) AS cont_pedidos,\n",
    "    SUM(p.valor_total) AS valor_pedidos,\n",
    "    SUM(p.valor_total)/(COUNT(DISTINCT c.cliente_id)) AS ticket_medio,\n",
    "    ROUND(1.0 * COUNT(DISTINCT p.pedido_id)/COUNT(DISTINCT p.cliente_id),2) as taxa_pedidos\n",
    "FROM\n",
    "df_clientes c\n",
    "INNER JOIN df_pedidos p ON c.cliente_id = p.cliente_id\n",
    "WHERE\n",
    "p.status = \"Confirmado\"\n",
    "GROUP BY c.estado\n",
    "\"\"\"\n",
    "resposta_2 = sqldf(query_resposta_2, globals())\n",
    "print(resposta_2)"
   ]
  },
  {
   "cell_type": "code",
   "execution_count": 15,
   "id": "1c7fa51d-98b2-4824-ab13-e3e353cef25f",
   "metadata": {},
   "outputs": [
    {
     "name": "stdout",
     "output_type": "stream",
     "text": [
      "           cidade  cont_clientes  cont_pedidos  valor_pedidos  ticket_medio  \\\n",
      "0       São Paulo            520          2870        9193242         17679   \n",
      "1  Rio de Janeiro            171           944        2941236         17200   \n",
      "2        Maranhão            168           921        2912830         17338   \n",
      "3         Goiânia            160           917        2903485         18146   \n",
      "4        Curitiba             87           525        1635440         18798   \n",
      "5  Belo Horizonte             92           471        1508426         16395   \n",
      "\n",
      "   taxa_pedidos  \n",
      "0          5.52  \n",
      "1          5.52  \n",
      "2          5.48  \n",
      "3          5.73  \n",
      "4          6.03  \n",
      "5          5.12  \n"
     ]
    }
   ],
   "source": [
    "query_resposta_2_1 = \"\"\"\n",
    "SELECT\n",
    "    c.cidade,\n",
    "    COUNT(DISTINCT c.cliente_id) AS cont_clientes,\n",
    "    COUNT(DISTINCT p.pedido_id) AS cont_pedidos,\n",
    "    SUM(p.valor_total) AS valor_pedidos,\n",
    "    SUM(p.valor_total)/(COUNT(DISTINCT c.cliente_id)) AS ticket_medio,\n",
    "    ROUND(1.0 * COUNT(DISTINCT p.pedido_id)/COUNT(DISTINCT p.cliente_id),2) as taxa_pedidos\n",
    "FROM\n",
    "df_clientes c\n",
    "INNER JOIN df_pedidos p ON c.cliente_id = p.cliente_id\n",
    "WHERE\n",
    "p.status = \"Confirmado\"\n",
    "GROUP BY c.cidade\n",
    "ORDER BY valor_pedidos DESC\n",
    "\"\"\"\n",
    "resposta_2_1 = sqldf(query_resposta_2_1, globals())\n",
    "print(resposta_2_1)"
   ]
  },
  {
   "cell_type": "markdown",
   "id": "856148d7-74c6-41df-abb8-9d611dcfa2dc",
   "metadata": {},
   "source": [
    "**Podemos ver inconsistência nos dados, vide que as cidades não condizem com os estados cadastrados. Pensando nisso, darei duas possíveis respostas, entendendo que para análise correta, precisamos revisistar a DB e entender em qual ponto da extração existe o erro dos dados**"
   ]
  },
  {
   "cell_type": "markdown",
   "id": "161e9d75-21ce-471e-8793-9c1d8a8b7f67",
   "metadata": {},
   "source": [
    "## Hipótese 1: utilizando a coluna estados standard"
   ]
  },
  {
   "cell_type": "code",
   "execution_count": 16,
   "id": "5d0372e3-1a7a-4d18-9992-b550225195d5",
   "metadata": {},
   "outputs": [
    {
     "data": {
      "image/png": "[encoded data removed]",
      "text/plain": [
       "<Figure size 1000x500 with 1 Axes>"
      ]
     },
     "metadata": {},
     "output_type": "display_data"
    }
   ],
   "source": [
    "import matplotlib.pyplot as plt\n",
    "\n",
    "df_ordenado_valor_pedidos_1 = resposta_2.sort_values(by=\"valor_pedidos\", ascending=False)\n",
    "\n",
    "\n",
    "plt.figure(figsize=(10, 5))\n",
    "plt.bar(df_ordenado_valor_pedidos_1['estado'], df_ordenado_valor_pedidos_1['valor_pedidos'], color='skyblue')\n",
    "plt.xlabel('Estado')\n",
    "plt.ylabel('Valor de pedidos (mi)')\n",
    "plt.title('Valor de Pedidos por Estado')\n",
    "plt.tight_layout()\n",
    "plt.show()"
   ]
  },
  {
   "cell_type": "markdown",
   "id": "014719bb-6fff-42a5-a0d3-9e10c08a8207",
   "metadata": {},
   "source": [
    "### Ticket médio por estado"
   ]
  },
  {
   "cell_type": "code",
   "execution_count": 17,
   "id": "3b12c7e6-8137-4755-8033-cc64c3120528",
   "metadata": {},
   "outputs": [
    {
     "data": {
      "image/png": "[encoded data removed]",
      "text/plain": [
       "<Figure size 800x800 with 1 Axes>"
      ]
     },
     "metadata": {},
     "output_type": "display_data"
    }
   ],
   "source": [
    "import matplotlib.pyplot as plt\n",
    "\n",
    "df_ordenado_tm = resposta_2.sort_values(by='ticket_medio', ascending=True)\n",
    "\n",
    "plt.figure(figsize=(8, 8))\n",
    "plt.barh(df_ordenado_tm['estado'], df_ordenado_tm['ticket_medio'], color='skyblue')\n",
    "plt.xlabel('Ticket Medio')\n",
    "plt.ylabel('Estado')\n",
    "plt.title('Ticket Médio por Estado')\n",
    "plt.tight_layout()\n",
    "plt.show()"
   ]
  },
  {
   "cell_type": "markdown",
   "id": "d2ffa6bc-fe4d-4f5f-86fa-f6b9a68559eb",
   "metadata": {},
   "source": [
    "### Taxa de Pedidos por estado"
   ]
  },
  {
   "cell_type": "code",
   "execution_count": 21,
   "id": "728699a8-a638-49e7-9d5f-e2a1198cda1b",
   "metadata": {},
   "outputs": [
    {
     "data": {
      "image/png": "[encoded data removed]",
      "text/plain": [
       "<Figure size 800x800 with 1 Axes>"
      ]
     },
     "metadata": {},
     "output_type": "display_data"
    }
   ],
   "source": [
    "import matplotlib.pyplot as plt\n",
    "\n",
    "df_ordenado_taxa_pedidos = resposta_2.sort_values(by='taxa_pedidos', ascending=True)\n",
    "\n",
    "plt.figure(figsize=(8, 8))\n",
    "plt.barh(df_ordenado_taxa_pedidos['estado'], df_ordenado_taxa_pedidos['taxa_pedidos'], color='skyblue')\n",
    "plt.xlabel('Taxa Pedidos')\n",
    "plt.ylabel('Estado')\n",
    "plt.title('Taxa de Pedidos por Estado')\n",
    "plt.tight_layout()\n",
    "plt.show()"
   ]
  },
  {
   "cell_type": "markdown",
   "id": "fc56b741-3717-4927-b47b-9e6c8331b7fa",
   "metadata": {},
   "source": [
    "## Hipótese 2: criando uma nova coluna de estado, baseando que os dados corretos na DB são das cidades"
   ]
  },
  {
   "cell_type": "markdown",
   "id": "c8a79e7f-ce2c-406d-bd2b-3012adf647cc",
   "metadata": {},
   "source": [
    "### Valor pedidos por estado"
   ]
  },
  {
   "cell_type": "code",
   "execution_count": 22,
   "id": "765d2eaa-f38b-46fe-a60d-8cd2483bf295",
   "metadata": {},
   "outputs": [
    {
     "data": {
      "image/png": "[encoded data removed]",
      "text/plain": [
       "<Figure size 1000x500 with 1 Axes>"
      ]
     },
     "metadata": {},
     "output_type": "display_data"
    }
   ],
   "source": [
    "import matplotlib.pyplot as plt\n",
    "\n",
    "correcoes_cidades_estado = {\n",
    "    'Maranhão': 'MA',\n",
    "    'Rio de Janeiro': 'RJ',\n",
    "    'São Paulo': 'SP',\n",
    "    'Curitiba': 'PR',\n",
    "    'Goiânia': 'GO',\n",
    "    'Belo Horizonte': 'MG'\n",
    "\n",
    "}\n",
    "\n",
    "resposta_2_1['estado'] = resposta_2_1['cidade'].map(correcoes_cidades_estado)\n",
    "df_ordenado_valor_pedidos_cidades = resposta_2_1.sort_values(by='valor_pedidos', ascending=False)\n",
    "\n",
    "\n",
    "plt.figure(figsize=(10, 5))\n",
    "plt.bar(df_ordenado_valor_pedidos_cidades['estado'], df_ordenado_valor_pedidos_cidades['valor_pedidos'], color='skyblue')\n",
    "plt.xlabel('Estado')\n",
    "plt.ylabel('Valor de pedidos (mi)')\n",
    "plt.title('Valor de Pedidos por Estado')\n",
    "plt.tight_layout()\n",
    "plt.show()"
   ]
  },
  {
   "cell_type": "markdown",
   "id": "d1ed5e76-260f-48b9-b285-f0cd1d70e453",
   "metadata": {},
   "source": [
    "### Ticket médio por estado"
   ]
  },
  {
   "cell_type": "code",
   "execution_count": 23,
   "id": "c07f355e-841f-44e2-8fc5-a719ea37b3e9",
   "metadata": {},
   "outputs": [
    {
     "data": {
      "image/png": "[encoded data removed]",
      "text/plain": [
       "<Figure size 800x800 with 1 Axes>"
      ]
     },
     "metadata": {},
     "output_type": "display_data"
    }
   ],
   "source": [
    "import matplotlib.pyplot as plt\n",
    "\n",
    "df_ordenado_ticket_medio_cidades = resposta_2_1.sort_values(by='ticket_medio', ascending=True)\n",
    "\n",
    "plt.figure(figsize=(8, 8))\n",
    "plt.barh(df_ordenado_ticket_medio_cidades['estado'], df_ordenado_ticket_medio_cidades['ticket_medio'], color='skyblue')\n",
    "plt.xlabel('Ticket Medio')\n",
    "plt.ylabel('Estado')\n",
    "plt.title('Ticket Médio por Estado')\n",
    "plt.tight_layout()\n",
    "plt.show()"
   ]
  },
  {
   "cell_type": "markdown",
   "id": "d0612ccb-01a5-4ec0-b446-9ee2f51a3701",
   "metadata": {},
   "source": [
    "### Taxa pedidos por estado"
   ]
  },
  {
   "cell_type": "code",
   "execution_count": 24,
   "id": "04e08ff2-f1ec-4071-824d-ae08969e8c92",
   "metadata": {},
   "outputs": [
    {
     "data": {
      "image/png": "[encoded data removed]",
      "text/plain": [
       "<Figure size 800x800 with 1 Axes>"
      ]
     },
     "metadata": {},
     "output_type": "display_data"
    }
   ],
   "source": [
    "import matplotlib.pyplot as plt\n",
    "\n",
    "df_ordenado_taxa_pedidos_estado = resposta_2_1.sort_values(by='taxa_pedidos', ascending=True)\n",
    "\n",
    "plt.figure(figsize=(8, 8))\n",
    "plt.barh(df_ordenado_taxa_pedidos_estado['estado'], df_ordenado_taxa_pedidos_estado['taxa_pedidos'], color='skyblue')\n",
    "plt.xlabel('Taxa Pedidos')\n",
    "plt.ylabel('Estado')\n",
    "plt.title('Taxa de Pedidos por Estado')\n",
    "plt.tight_layout()\n",
    "plt.show()"
   ]
  },
  {
   "cell_type": "markdown",
   "id": "2b8449ea-f195-4568-a6e2-b8cb5559d40d",
   "metadata": {},
   "source": [
    "## 3. Quais são os estados e cidades com maior valor em vendas? Liste-os em ordem decrescente."
   ]
  },
  {
   "cell_type": "markdown",
   "id": "c4835c4f-5463-4cce-b309-ac322f3e7373",
   "metadata": {},
   "source": [
    "**A resposta para essa questão é impossível com a base de dados que temos, uma vez que no cadastro dos clientes, as cidades e os estados não estão relacionados corretamente. Abaixo, realizei as queries que mostram valores de pedido para os 26 estados e o Distrito Federal do Brasil sendo que, quando realizamos a consulta para as cidades, temos somente 6. Isso prova que temos incoerência no cadastro dos dados, fazendo possível a resposta após a confirmação com uma nova extração de dados corretos.**"
   ]
  },
  {
   "cell_type": "markdown",
   "id": "ac4fd548-032f-4976-8610-3a480e9e8d75",
   "metadata": {},
   "source": [
    "### Valor pedidos por estado"
   ]
  },
  {
   "cell_type": "code",
   "execution_count": 34,
   "id": "065e1930-a60e-4020-b158-14bb6659dda1",
   "metadata": {
    "scrolled": true
   },
   "outputs": [
    {
     "name": "stdout",
     "output_type": "stream",
     "text": [
      "   estado  valor_pedidos\n",
      "0      MG        1042707\n",
      "1      RR         996613\n",
      "2      GO         907330\n",
      "3      MA         905260\n",
      "4      AP         868457\n",
      "5      ES         863116\n",
      "6      PA         859011\n",
      "7      TO         850980\n",
      "8      SE         830984\n",
      "9      RJ         830709\n",
      "10     AL         828874\n",
      "11     MT         805316\n",
      "12     AM         797341\n",
      "13     SC         790818\n",
      "14     DF         755397\n",
      "15     MS         743910\n",
      "16     PR         723539\n",
      "17     AC         716164\n",
      "18     BA         711964\n",
      "19     SP         707338\n",
      "20     PI         688043\n",
      "21     RN         665148\n",
      "22     PE         664056\n",
      "23     RO         655886\n",
      "24     PB         651013\n",
      "25     CE         633867\n",
      "26     RS         600818\n"
     ]
    }
   ],
   "source": [
    "query_resposta_3 = \"\"\"\n",
    "SELECT\n",
    "    c.estado,\n",
    "    SUM(p.valor_total) AS valor_pedidos\n",
    "FROM\n",
    "df_clientes c\n",
    "INNER JOIN df_pedidos p ON c.cliente_id = p.cliente_id\n",
    "WHERE\n",
    "p.status = \"Confirmado\"\n",
    "GROUP BY c.estado\n",
    "ORDER BY valor_pedidos DESC\n",
    "\"\"\"\n",
    "resposta_3 = sqldf(query_resposta_3, globals())\n",
    "print(resposta_3)"
   ]
  },
  {
   "cell_type": "markdown",
   "id": "1b468ce3-13d9-49bf-9727-0eccfa06ce58",
   "metadata": {},
   "source": [
    "### Valor pedidos por cidade"
   ]
  },
  {
   "cell_type": "code",
   "execution_count": 32,
   "id": "a8d63380-dbea-4101-9d6d-505cd8e1d9e1",
   "metadata": {},
   "outputs": [
    {
     "name": "stdout",
     "output_type": "stream",
     "text": [
      "           cidade  valor_pedidos\n",
      "0       São Paulo        9193242\n",
      "1  Rio de Janeiro        2941236\n",
      "2        Maranhão        2912830\n",
      "3         Goiânia        2903485\n",
      "4        Curitiba        1635440\n",
      "5  Belo Horizonte        1508426\n"
     ]
    }
   ],
   "source": [
    "query_resposta_3_1 = \"\"\"\n",
    "SELECT\n",
    "    c.cidade,\n",
    "    SUM(p.valor_total) AS valor_pedidos\n",
    "FROM\n",
    "df_clientes c\n",
    "INNER JOIN df_pedidos p ON c.cliente_id = p.cliente_id\n",
    "WHERE\n",
    "p.status = \"Confirmado\"\n",
    "GROUP BY c.cidade\n",
    "ORDER BY valor_pedidos DESC\n",
    "\"\"\"\n",
    "resposta_3_1 = sqldf(query_resposta_3_1, globals())\n",
    "print(resposta_3_1)"
   ]
  },
  {
   "cell_type": "markdown",
   "id": "e688bbb7-5177-4739-ae22-a3fc649bfc4d",
   "metadata": {},
   "source": [
    "## 4. A categoria do produto ou quantidade de itens do pedido influencia no status no pedido?"
   ]
  },
  {
   "cell_type": "code",
   "execution_count": 91,
   "id": "93e01b54-6842-4a07-a932-ccc38ee3a229",
   "metadata": {},
   "outputs": [
    {
     "name": "stdout",
     "output_type": "stream",
     "text": [
      "     categoria  pedidos_confirmados  pedidos_pendente  pedidos_cancelados  \\\n",
      "0   Brinquedos                 1390               337                 312   \n",
      "1    Alimentos                  993               228                 238   \n",
      "2  Eletrônicos                 2785               690                 682   \n",
      "3       Livros                 2521               620                 629   \n",
      "4    Decoração                 1129               294                 269   \n",
      "5     Esportes                 1609               419                 391   \n",
      "6  Eletronicos                 1155               298                 295   \n",
      "7       Roupas                 4195              1086                1091   \n",
      "8    Decoraçao                 1282               329                 343   \n",
      "\n",
      "   total_pedidos  taxa_confirmacao  \n",
      "0           2039             68.17  \n",
      "1           1459             68.06  \n",
      "2           4157             67.00  \n",
      "3           3770             66.87  \n",
      "4           1692             66.73  \n",
      "5           2419             66.52  \n",
      "6           1748             66.08  \n",
      "7           6372             65.83  \n",
      "8           1954             65.61  \n"
     ]
    }
   ],
   "source": [
    "query_resposta_4 = \"\"\"\n",
    "SELECT\n",
    "    DISTINCT(pr.categoria),\n",
    "    COUNT(DISTINCT CASE WHEN p.status = 'Confirmado' THEN p.pedido_id END) as pedidos_confirmados,\n",
    "    COUNT(DISTINCT CASE WHEN p.status = 'Pending' THEN p.pedido_id END) as pedidos_pendente,\n",
    "    COUNT(DISTINCT CASE WHEN p.status = 'CANCELADO' THEN p.pedido_id END) AS pedidos_cancelados,\n",
    "    COUNT(DISTINCT(i.pedido_id)) as total_pedidos,\n",
    "    ROUND(100.0 * COUNT(DISTINCT CASE WHEN p.status = 'Confirmado' THEN p.pedido_id END)/COUNT(DISTINCT p.pedido_id),2) as taxa_confirmacao\n",
    "FROM\n",
    "df_itenspedido i\n",
    "INNER JOIN df_pedidos p \n",
    "ON i.pedido_id = p.pedido_id\n",
    "INNER JOIN df_produtos pr\n",
    "ON i.produto_id = pr.produto_id\n",
    "group by pr.categoria\n",
    "order by taxa_confirmacao desc\n",
    "\"\"\"\n",
    "\n",
    "resposta_4 = sqldf(query_resposta_4, globals())\n",
    "print(resposta_4)"
   ]
  },
  {
   "cell_type": "code",
   "execution_count": 96,
   "id": "b2cb5c7c-4717-4836-b38a-a1d9424fdd10",
   "metadata": {},
   "outputs": [
    {
     "name": "stdout",
     "output_type": "stream",
     "text": [
      "      pedido_id  qtde      status\n",
      "0        464863    17   CANCELADO\n",
      "1        970329    16  Confirmado\n",
      "2        914996    16  Confirmado\n",
      "3        912612    16     Pending\n",
      "4        731531    16   CANCELADO\n",
      "...         ...   ...         ...\n",
      "9995     113183     1  Confirmado\n",
      "9996     113100     1  Confirmado\n",
      "9997     108298     1  Confirmado\n",
      "9998     106281     1     Pending\n",
      "9999     100295     1  Confirmado\n",
      "\n",
      "[10000 rows x 3 columns]\n"
     ]
    }
   ],
   "source": [
    "query_resposta_4_1 = \"\"\"\n",
    "SELECT\n",
    "    distinct(i.pedido_id),\n",
    "    SUM(i.quantidade) as qtde,\n",
    "    p.status\n",
    "FROM\n",
    "df_itenspedido i\n",
    "INNER JOIN df_pedidos p \n",
    "ON i.pedido_id = p.pedido_id\n",
    "INNER JOIN df_produtos pr\n",
    "ON i.produto_id = pr.produto_id\n",
    "group by i.pedido_id\n",
    "order by qtde DESC\n",
    "\"\"\"\n",
    "\n",
    "resposta_4_1 = sqldf(query_resposta_4_1, globals())\n",
    "print(resposta_4_1)"
   ]
  },
  {
   "cell_type": "code",
   "execution_count": null,
   "id": "a254633e-2235-459c-803a-350d106cdcfe",
   "metadata": {},
   "outputs": [],
   "source": []
  }
 ],
 "metadata": {
  "kernelspec": {
   "display_name": "Python 3 (ipykernel)",
   "language": "python",
   "name": "python3"
  },
  "language_info": {
   "codemirror_mode": {
    "name": "ipython",
    "version": 3
   },
   "file_extension": ".py",
   "mimetype": "text/x-python",
   "name": "python",
   "nbconvert_exporter": "python",
   "pygments_lexer": "ipython3",
   "version": "3.13.1"
  }
 },
 "nbformat": 4,
 "nbformat_minor": 5
}
